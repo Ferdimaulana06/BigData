{
 "cells": [
  {
   "cell_type": "raw",
   "id": "1520a33f-50c7-4aeb-8080-159612f48fb3",
   "metadata": {},
   "source": [
    "Ferdi Maulana Ikhsan (2310506006)"
   ]
  },
  {
   "cell_type": "markdown",
   "id": "d2eeae3c-120a-42fc-93d0-4418b7c2b38e",
   "metadata": {},
   "source": [
    "Pengenalan dan Praktik Dasar PySpark dan Pandas"
   ]
  },
  {
   "cell_type": "code",
   "execution_count": 1,
   "id": "dcc264f9-33f3-42aa-8ba5-6436be1fed1e",
   "metadata": {},
   "outputs": [],
   "source": [
    "import findspark\n",
    "findspark.init()"
   ]
  },
  {
   "cell_type": "code",
   "execution_count": 3,
   "id": "86f95283-9f28-4051-a670-ed8f66f00e19",
   "metadata": {},
   "outputs": [
    {
     "name": "stdout",
     "output_type": "stream",
     "text": [
      "+-----+----+\n",
      "| Nama|Usia|\n",
      "+-----+----+\n",
      "|  Ali|  34|\n",
      "| Budi|  23|\n",
      "|Citra|  29|\n",
      "| Dina|  45|\n",
      "+-----+----+\n",
      "\n"
     ]
    }
   ],
   "source": [
    "from pyspark.sql import SparkSession\n",
    "\n",
    "# Memulai Spark session\n",
    "spark = SparkSession.builder.appName(\"BigDataPractice\").getOrCreate()\n",
    "\n",
    "# Membuat DataFrame sederhana\n",
    "data = [(\"Ali\", 34), (\"Budi\", 23), (\"Citra\", 29), (\"Dina\", 45)]\n",
    "columns = [\"Nama\", \"Usia\"]\n",
    "df = spark.createDataFrame(data, columns)\n",
    "\n",
    "# Menampilkan DataFrame\n",
    "df.show()"
   ]
  },
  {
   "cell_type": "raw",
   "id": "9723779e-178b-43f3-839b-c7712e341cc5",
   "metadata": {},
   "source": [
    "Tugas 1: Jalankan kode di atas dan buat modifikasi dengan menambahkan data lain berupa kolom pekerjaan, hobi dan gender."
   ]
  },
  {
   "cell_type": "code",
   "execution_count": 6,
   "id": "169be2fd-0fd0-4e6e-a9f9-437f84477021",
   "metadata": {},
   "outputs": [
    {
     "name": "stdout",
     "output_type": "stream",
     "text": [
      "+-----+----+----------+------------+------+\n",
      "| Nama|Usia| Pekerjaan|        Hobi|Gender|\n",
      "+-----+----+----------+------------+------+\n",
      "|  Ali|  34|    Petani|    Berkebun|  Pria|\n",
      "| Budi|  23|Pro Player|Bermain Game|  Pria|\n",
      "|Citra|  29|Sekretaris|     Menulis|Wanita|\n",
      "| Dina|  45|      Koki|     Memasak|Wanita|\n",
      "+-----+----+----------+------------+------+\n",
      "\n"
     ]
    }
   ],
   "source": [
    "# Import kelas 'SparkSession' dari modul 'pyspark.sql' untuk memulai Spark\n",
    "from pyspark.sql import SparkSession\n",
    "\n",
    "# Memulai Spark session\n",
    "spark = SparkSession.builder.appName(\"BigDataPractice\").getOrCreate()\n",
    "\n",
    "# Membuat data dalam bentuk list of tuples, di mana setiap tuple mewakili satu baris data\n",
    "data = [(\"Ali\", 34, \"Petani\", \"Berkebun\", \"Pria\"), \n",
    "        (\"Budi\", 23, \"Pro Player\", \"Bermain Game\", \"Pria\"), \n",
    "        (\"Citra\", 29, \"Sekretaris\", \"Menulis\", \"Wanita\"), \n",
    "        (\"Dina\", 45, \"Koki\", \"Memasak\", \"Wanita\")]\n",
    "\n",
    "# Mendefinisikan nama kolom yang sesuai dengan urutan elemen dalam data tuple\n",
    "columns = [\"Nama\", \"Usia\",\"Pekerjaan\",\"Hobi\",\"Gender\"]\n",
    "\n",
    "# Membuat DataFrame dari data dan kolom yang telah ditentukan\n",
    "df = spark.createDataFrame(data, columns)\n",
    "\n",
    "# Menampilkan DataFrame\n",
    "df.show()"
   ]
  },
  {
   "cell_type": "raw",
   "id": "6bc1f302-5641-4d8c-9bab-3ade0b207d7e",
   "metadata": {},
   "source": []
  },
  {
   "cell_type": "raw",
   "id": "ff88ea91-2c2b-4adb-b9eb-701f70fc0598",
   "metadata": {},
   "source": [
    "Praktik PySpark Lanjutan\n",
    "Latihan 1: Memanipulasi Data dengan PySpark"
   ]
  },
  {
   "cell_type": "code",
   "execution_count": 9,
   "id": "d5dd502a-d53f-4c67-b540-a2c324b78301",
   "metadata": {},
   "outputs": [
    {
     "name": "stdout",
     "output_type": "stream",
     "text": [
      "+-----+----+\n",
      "| Nama|Usia|\n",
      "+-----+----+\n",
      "|  Ali|  34|\n",
      "| Budi|  23|\n",
      "|Citra|  29|\n",
      "| Dina|  45|\n",
      "+-----+----+\n",
      "\n",
      "+----+----+\n",
      "|Nama|Usia|\n",
      "+----+----+\n",
      "| Ali|  34|\n",
      "|Dina|  45|\n",
      "+----+----+\n",
      "\n",
      "+---------+\n",
      "|avg(Usia)|\n",
      "+---------+\n",
      "|    32.75|\n",
      "+---------+\n",
      "\n",
      "+-----+----+\n",
      "| Nama|Usia|\n",
      "+-----+----+\n",
      "| Dina|  45|\n",
      "|  Ali|  34|\n",
      "|Citra|  29|\n",
      "| Budi|  23|\n",
      "+-----+----+\n",
      "\n"
     ]
    }
   ],
   "source": [
    "\n",
    "from pyspark.sql import SparkSession\n",
    "\n",
    "# Memulai Spark session\n",
    "spark = SparkSession.builder.appName(\"BigDataPractice\").getOrCreate()\n",
    "\n",
    "# Membuat DataFrame sederhana dengan data yang terdiri dari nama dan usia\n",
    "data = [(\"Ali\", 34), (\"Budi\", 23), (\"Citra\", 29), (\"Dina\", 45)]\n",
    "columns = [\"Nama\", \"Usia\"]\n",
    "df = spark.createDataFrame(data, columns)\n",
    "\n",
    "# Menampilkan DataFrame\n",
    "df.show()\n",
    "\n",
    "# Memfilter DataFrame untuk mendapatkan baris di mana usia lebih dari 30\n",
    "df_filtered = df.filter(df['Usia'] > 30)\n",
    "df_filtered.show()\n",
    "\n",
    "# Menghitung rata-rata usia\n",
    "from pyspark.sql.functions import avg \n",
    "df.groupBy().agg(avg(\"Usia\")).show()  \n",
    "\n",
    "# Mengurutkan data berdasarkan usia dalam urutan menurun (descending)\n",
    "df_sorted = df.orderBy(\"Usia\", ascending=False)\n",
    "df_sorted.show()"
   ]
  },
  {
   "cell_type": "raw",
   "id": "9c7eb3c7-63f8-4805-8ae2-38a07c6e0250",
   "metadata": {},
   "source": [
    "Tugas 2: Lakukan filter, penghitungan rata-rata, dan pengurutan data menggunakan PySpark."
   ]
  },
  {
   "cell_type": "code",
   "execution_count": 11,
   "id": "a6990f73-f394-408d-ad3f-c9a1bdff184a",
   "metadata": {},
   "outputs": [
    {
     "name": "stdout",
     "output_type": "stream",
     "text": [
      "+-----+----+--------+\n",
      "| Nama|Usia|No Absen|\n",
      "+-----+----+--------+\n",
      "|  Eka|  21|     101|\n",
      "|Fahri|  22|     102|\n",
      "| Gina|  20|     103|\n",
      "| Hadi|  23|     104|\n",
      "+-----+----+--------+\n",
      "\n",
      "+-----+----+--------+\n",
      "| Nama|Usia|No Absen|\n",
      "+-----+----+--------+\n",
      "|Fahri|  22|     102|\n",
      "| Hadi|  23|     104|\n",
      "+-----+----+--------+\n",
      "\n",
      "+---------+\n",
      "|avg(Usia)|\n",
      "+---------+\n",
      "|     21.5|\n",
      "+---------+\n",
      "\n",
      "+-----+----+--------+\n",
      "| Nama|Usia|No Absen|\n",
      "+-----+----+--------+\n",
      "| Hadi|  23|     104|\n",
      "| Gina|  20|     103|\n",
      "|Fahri|  22|     102|\n",
      "|  Eka|  21|     101|\n",
      "+-----+----+--------+\n",
      "\n"
     ]
    }
   ],
   "source": [
    "# Import kelas 'SparkSession' dari modul 'pyspark.sql' untuk memulai Spark\n",
    "from pyspark.sql import SparkSession\n",
    "\n",
    "# Memulai Spark session\n",
    "spark = SparkSession.builder.appName(\"StudentDataPractice\").getOrCreate()\n",
    "\n",
    "# Membuat DataFrame dengan data yang terdiri dari nama, usia, dan nomor absen\n",
    "data = [(\"Eka\", 21, 101), \n",
    "        (\"Fahri\", 22, 102), \n",
    "        (\"Gina\", 20, 103), \n",
    "        (\"Hadi\", 23, 104)]\n",
    "columns = [\"Nama\", \"Usia\", \"No Absen\"]\n",
    "df = spark.createDataFrame(data, columns)\n",
    "\n",
    "# Menampilkan isi DataFrame\n",
    "df.show()\n",
    "\n",
    "# Filtering data: Memfilter DataFrame untuk mendapatkan baris di mana usia lebih dari 21\n",
    "df_filtered = df.filter(df['Usia'] > 21)\n",
    "df_filtered.show()\n",
    "\n",
    "# Menghitung rata-rata usia\n",
    "from pyspark.sql.functions import avg # Mengimpor fungsi avg untuk menghitung rata-rata\n",
    "df.groupBy().agg(avg(\"Usia\")).show()  # Mengelompokkan semua data dan menghitung rata-rata usia\n",
    "\n",
    "# Mengurutkan data berdasarkan nomor absen dalam urutan menurun (descending)\n",
    "df_sorted = df.orderBy(\"No Absen\", ascending=False)\n",
    "df_sorted.show()\n"
   ]
  },
  {
   "cell_type": "raw",
   "id": "653959ea-5bd1-4a60-b662-3f22a59b8e14",
   "metadata": {},
   "source": []
  },
  {
   "cell_type": "raw",
   "id": "05c15294-d0ff-4b09-8be8-14cce31715a0",
   "metadata": {},
   "source": [
    "Praktik dengan Pandas\n",
    "Latihan 2: Buat DataFrame menggunakan Pandas"
   ]
  },
  {
   "cell_type": "code",
   "execution_count": 8,
   "id": "f7f8f1ce-86d2-47ee-a2aa-aecc22986e6c",
   "metadata": {},
   "outputs": [
    {
     "data": {
      "text/html": [
       "<div>\n",
       "<style scoped>\n",
       "    .dataframe tbody tr th:only-of-type {\n",
       "        vertical-align: middle;\n",
       "    }\n",
       "\n",
       "    .dataframe tbody tr th {\n",
       "        vertical-align: top;\n",
       "    }\n",
       "\n",
       "    .dataframe thead th {\n",
       "        text-align: right;\n",
       "    }\n",
       "</style>\n",
       "<table border=\"1\" class=\"dataframe\">\n",
       "  <thead>\n",
       "    <tr style=\"text-align: right;\">\n",
       "      <th></th>\n",
       "      <th>Nama</th>\n",
       "      <th>Usia</th>\n",
       "    </tr>\n",
       "  </thead>\n",
       "  <tbody>\n",
       "    <tr>\n",
       "      <th>0</th>\n",
       "      <td>Ali</td>\n",
       "      <td>34</td>\n",
       "    </tr>\n",
       "    <tr>\n",
       "      <th>1</th>\n",
       "      <td>Budi</td>\n",
       "      <td>23</td>\n",
       "    </tr>\n",
       "    <tr>\n",
       "      <th>2</th>\n",
       "      <td>Citra</td>\n",
       "      <td>29</td>\n",
       "    </tr>\n",
       "    <tr>\n",
       "      <th>3</th>\n",
       "      <td>Dina</td>\n",
       "      <td>45</td>\n",
       "    </tr>\n",
       "  </tbody>\n",
       "</table>\n",
       "</div>"
      ],
      "text/plain": [
       "    Nama  Usia\n",
       "0    Ali    34\n",
       "1   Budi    23\n",
       "2  Citra    29\n",
       "3   Dina    45"
      ]
     },
     "execution_count": 8,
     "metadata": {},
     "output_type": "execute_result"
    }
   ],
   "source": [
    "import pandas as pd\n",
    "\n",
    "# Membuat DataFrame Pandas\n",
    "data_pandas = {\"Nama\": [\"Ali\", \"Budi\", \"Citra\", \"Dina\"], \"Usia\": [34, 23, 29, 45]}\n",
    "df_pandas = pd.DataFrame(data_pandas)\n",
    "\n",
    "# Menampilkan DataFrame Pandas\n",
    "df_pandas"
   ]
  },
  {
   "cell_type": "raw",
   "id": "5dba276e-e18e-417b-82c9-84bbcaf87926",
   "metadata": {},
   "source": [
    "Tugas 3: Modifikasi DataFrame Pandas dengan menambahkan kolom baru dan melakukan operasi seperti filtering data berdasarkan usia."
   ]
  },
  {
   "cell_type": "code",
   "execution_count": 12,
   "id": "6602361a-d372-4316-86f0-23b14fdabe69",
   "metadata": {},
   "outputs": [
    {
     "data": {
      "text/html": [
       "<div>\n",
       "<style scoped>\n",
       "    .dataframe tbody tr th:only-of-type {\n",
       "        vertical-align: middle;\n",
       "    }\n",
       "\n",
       "    .dataframe tbody tr th {\n",
       "        vertical-align: top;\n",
       "    }\n",
       "\n",
       "    .dataframe thead th {\n",
       "        text-align: right;\n",
       "    }\n",
       "</style>\n",
       "<table border=\"1\" class=\"dataframe\">\n",
       "  <thead>\n",
       "    <tr style=\"text-align: right;\">\n",
       "      <th></th>\n",
       "      <th>Nama</th>\n",
       "      <th>Usia</th>\n",
       "      <th>Pekerjaan</th>\n",
       "    </tr>\n",
       "  </thead>\n",
       "  <tbody>\n",
       "    <tr>\n",
       "      <th>0</th>\n",
       "      <td>Ali</td>\n",
       "      <td>34</td>\n",
       "      <td>Kang Parkir</td>\n",
       "    </tr>\n",
       "    <tr>\n",
       "      <th>1</th>\n",
       "      <td>Budi</td>\n",
       "      <td>23</td>\n",
       "      <td>Kang Haji</td>\n",
       "    </tr>\n",
       "    <tr>\n",
       "      <th>2</th>\n",
       "      <td>Citra</td>\n",
       "      <td>29</td>\n",
       "      <td>Kang Cuci</td>\n",
       "    </tr>\n",
       "    <tr>\n",
       "      <th>3</th>\n",
       "      <td>Dina</td>\n",
       "      <td>45</td>\n",
       "      <td>Kang Buku</td>\n",
       "    </tr>\n",
       "  </tbody>\n",
       "</table>\n",
       "</div>"
      ],
      "text/plain": [
       "    Nama  Usia    Pekerjaan\n",
       "0    Ali    34  Kang Parkir\n",
       "1   Budi    23    Kang Haji\n",
       "2  Citra    29    Kang Cuci\n",
       "3   Dina    45    Kang Buku"
      ]
     },
     "metadata": {},
     "output_type": "display_data"
    },
    {
     "data": {
      "text/html": [
       "<div>\n",
       "<style scoped>\n",
       "    .dataframe tbody tr th:only-of-type {\n",
       "        vertical-align: middle;\n",
       "    }\n",
       "\n",
       "    .dataframe tbody tr th {\n",
       "        vertical-align: top;\n",
       "    }\n",
       "\n",
       "    .dataframe thead th {\n",
       "        text-align: right;\n",
       "    }\n",
       "</style>\n",
       "<table border=\"1\" class=\"dataframe\">\n",
       "  <thead>\n",
       "    <tr style=\"text-align: right;\">\n",
       "      <th></th>\n",
       "      <th>Nama</th>\n",
       "      <th>Usia</th>\n",
       "      <th>Pekerjaan</th>\n",
       "    </tr>\n",
       "  </thead>\n",
       "  <tbody>\n",
       "    <tr>\n",
       "      <th>1</th>\n",
       "      <td>Budi</td>\n",
       "      <td>23</td>\n",
       "      <td>Kang Haji</td>\n",
       "    </tr>\n",
       "    <tr>\n",
       "      <th>2</th>\n",
       "      <td>Citra</td>\n",
       "      <td>29</td>\n",
       "      <td>Kang Cuci</td>\n",
       "    </tr>\n",
       "  </tbody>\n",
       "</table>\n",
       "</div>"
      ],
      "text/plain": [
       "    Nama  Usia  Pekerjaan\n",
       "1   Budi    23  Kang Haji\n",
       "2  Citra    29  Kang Cuci"
      ]
     },
     "metadata": {},
     "output_type": "display_data"
    }
   ],
   "source": [
    "# Mengimpor library Pandas yang digunakan untuk manipulasi data dalam Python.\n",
    "import pandas as pd\n",
    "\n",
    "# Membuat DataFrame Pandas dengan data yang terdiri dari nama, usia, dan pekerjaan\n",
    "data_pandas = {\"Nama\": [\"Ali\", \"Budi\", \"Citra\", \"Dina\"], \n",
    "               \"Usia\": [34, 23, 29, 45], \n",
    "               \"Pekerjaan\": [\"Kang Parkir\", \"Kang Haji\", \"Kang Cuci\", \"Kang Buku\"]}\n",
    "\n",
    "# Mengonversi data ke dalam DataFrame Pandas\n",
    "df_pandas = pd.DataFrame(data_pandas)\n",
    "\n",
    "# Memfilter baris di mana usia kurang dari 30\n",
    "df_filtered = df_pandas[df_pandas['Usia'] < 30]\n",
    "\n",
    "# Menampilkan DataFrame asli\n",
    "display(df_pandas)\n",
    "\n",
    "# DataFrame yang telah difilter\n",
    "display(df_filtered)"
   ]
  },
  {
   "cell_type": "raw",
   "id": "d911164c-c1ae-4ef0-9072-b058a96e2d1a",
   "metadata": {},
   "source": []
  },
  {
   "cell_type": "raw",
   "id": "d2dc38c2-8d52-48af-96a5-66dc75ba52d3",
   "metadata": {},
   "source": [
    "Praktik Pandas Lanjutan\n",
    "Latihan 3: Penggunaan Pandas untuk operasi lebih kompleks"
   ]
  },
  {
   "cell_type": "code",
   "execution_count": 15,
   "id": "32d66a5a-bcc6-4a28-8644-2b726b03a664",
   "metadata": {},
   "outputs": [
    {
     "name": "stdout",
     "output_type": "stream",
     "text": [
      "    Nama  Usia Pekerjaan\n",
      "0    Ali    34    Dokter\n",
      "1   Budi    23      Guru\n",
      "2  Citra    29  Insinyur\n",
      "3   Dina    45   Perawat\n",
      "            Usia\n",
      "count   4.000000\n",
      "mean   32.750000\n",
      "std     9.322911\n",
      "min    23.000000\n",
      "25%    27.500000\n",
      "50%    31.500000\n",
      "75%    36.750000\n",
      "max    45.000000\n"
     ]
    },
    {
     "data": {
      "image/png": "[encoded data removed]",
      "text/plain": [
       "<Figure size 640x480 with 1 Axes>"
      ]
     },
     "metadata": {},
     "output_type": "display_data"
    }
   ],
   "source": [
    "import pandas as pd\n",
    "\n",
    "# Membuat DataFrame Pandas\n",
    "data_pandas = {\"Nama\": [\"Ali\", \"Budi\", \"Citra\", \"Dina\"], \"Usia\": [34, 23, 29, 45]}\n",
    "df_pandas = pd.DataFrame(data_pandas)\n",
    "\n",
    "# Membuat DataFrame kedua\n",
    "data_pandas_2 = {\"Nama\": [\"Ali\", \"Budi\", \"Citra\", \"Dina\"], \"Pekerjaan\": [\"Dokter\", \"Guru\", \"Insinyur\", \"Perawat\"]}\n",
    "df_pandas_2 = pd.DataFrame(data_pandas_2)\n",
    "\n",
    "# Join antara dua DataFrame\n",
    "df_joined = pd.merge(df_pandas, df_pandas_2, on=\"Nama\")\n",
    "print(df_joined)\n",
    "\n",
    "# Menghitung statistik deskriptif\n",
    "print(df_pandas.describe())\n",
    "\n",
    "# Plotting Data\n",
    "import matplotlib.pyplot as plt\n",
    "df_pandas['Usia'].plot(kind='bar')\n",
    "plt.show()"
   ]
  },
  {
   "cell_type": "raw",
   "id": "b0879d71-0bec-43a0-b47c-2729abbc3051",
   "metadata": {},
   "source": [
    "Tugas 4: Lakukan penggabungan DataFrame dan visualisasikan data dengan Pandas"
   ]
  },
  {
   "cell_type": "code",
   "execution_count": 17,
   "id": "1bc06e5c-3e15-4f17-a14d-c84ba0462e3d",
   "metadata": {},
   "outputs": [
    {
     "name": "stdout",
     "output_type": "stream",
     "text": [
      "DataFrame yang digabungkan:\n",
      "    Nama  Usia Pekerjaan\n",
      "0    Ali    34    Dokter\n",
      "1   Budi    23      Guru\n",
      "2  Citra    29  Insinyur\n",
      "3   Dina    45   Perawat\n"
     ]
    },
    {
     "data": {
      "image/png": "[encoded data removed]",
      "text/plain": [
       "<Figure size 800x600 with 1 Axes>"
      ]
     },
     "metadata": {},
     "output_type": "display_data"
    }
   ],
   "source": [
    "import pandas as pd\n",
    "import matplotlib.pyplot as plt\n",
    "\n",
    "# Membuat DataFrame Pandas pertama\n",
    "data_pandas = {\"Nama\": [\"Ali\", \"Budi\", \"Citra\", \"Dina\"], \"Usia\": [34, 23, 29, 45]}\n",
    "df_pandas = pd.DataFrame(data_pandas)\n",
    "\n",
    "# Membuat DataFrame Pandas kedua\n",
    "data_pandas_2 = {\"Nama\": [\"Ali\", \"Budi\", \"Citra\", \"Dina\"], \"Pekerjaan\": [\"Dokter\", \"Guru\", \"Insinyur\", \"Perawat\"]}\n",
    "df_pandas_2 = pd.DataFrame(data_pandas_2)\n",
    "\n",
    "# Menggabungkan dua DataFrame berdasarkan kolom 'Nama'\n",
    "df_joined = pd.merge(df_pandas, df_pandas_2, on=\"Nama\")\n",
    "\n",
    "# Menampilkan DataFrame yang digabungkan\n",
    "print(\"DataFrame yang digabungkan:\")\n",
    "print(df_joined)\n",
    "\n",
    "# Visualisasi data\n",
    "plt.figure(figsize=(8, 6))  # Mengatur ukuran figure\n",
    "df_pandas['Usia'].plot(kind='bar', color='skyblue', edgecolor='black')\n",
    "plt.title('Bar Plot Usia')  # Menambahkan judul\n",
    "plt.xlabel('Indeks')  # Label sumbu x\n",
    "plt.ylabel('Usia')  # Label sumbu y\n",
    "plt.xticks(ticks=range(len(df_pandas)), labels=df_pandas['Nama'], rotation=0)  # Menambahkan nama pada sumbu x\n",
    "plt.grid(axis='y', linestyle='--', alpha=0.7)  # Menambahkan grid horizontal\n",
    "plt.show()"
   ]
  },
  {
   "cell_type": "raw",
   "id": "d7c178b9-db6a-49e4-8999-e16e9b5d3163",
   "metadata": {},
   "source": []
  },
  {
   "cell_type": "raw",
   "id": "ca0a2139-6868-4815-8388-98aba4d5d57d",
   "metadata": {},
   "source": [
    "Menggabungkan PySpark dan Pandas\n",
    "Latihan 4: Mengonversi DataFrame antara PySpark dan Pandas Praktik untuk convert DataFrame dari PySpark ke Pandas dan sebaliknya"
   ]
  },
  {
   "cell_type": "code",
   "execution_count": 18,
   "id": "3a0a641d-f5ad-4d2e-b538-f5a24a1c0ee4",
   "metadata": {},
   "outputs": [
    {
     "name": "stdout",
     "output_type": "stream",
     "text": [
      "+-----+----+\n",
      "| Nama|Usia|\n",
      "+-----+----+\n",
      "|  Ali|  34|\n",
      "| Budi|  23|\n",
      "|Citra|  29|\n",
      "| Dina|  45|\n",
      "+-----+----+\n",
      "\n"
     ]
    },
    {
     "data": {
      "text/plain": [
       "(    Nama  Usia  No Absen\n",
       " 0    Eka    21       101\n",
       " 1  Fahri    22       102\n",
       " 2   Gina    20       103\n",
       " 3   Hadi    23       104,\n",
       " None)"
      ]
     },
     "execution_count": 18,
     "metadata": {},
     "output_type": "execute_result"
    }
   ],
   "source": [
    "# Mengonversi DataFrame dari PySpark ke Pandas\n",
    "df_pandas_from_spark = df.toPandas()\n",
    "\n",
    "# Mengonversi DataFrame dari Pandas ke PySpark\n",
    "df_spark_from_pandas = spark.createDataFrame(df_pandas)\n",
    "\n",
    "# Menampilkan DataFrame hasil konversi\n",
    "df_pandas_from_spark, df_spark_from_pandas.show()"
   ]
  },
  {
   "cell_type": "raw",
   "id": "b30570e0-1f02-4876-a725-7167dc8309f7",
   "metadata": {},
   "source": [
    "Tugas 5: Gunakan metode ini untuk menggabungkan data yang Anda buat di PySpark dengan data dari Pandas, kemudian lakukan analisis sederhana seperti menghitung rata-rata usia."
   ]
  },
  {
   "cell_type": "code",
   "execution_count": 19,
   "id": "f05d8a4c-2a0d-4c42-9cf9-8b895c7ff190",
   "metadata": {},
   "outputs": [
    {
     "name": "stdout",
     "output_type": "stream",
     "text": [
      "+-----+----+\n",
      "| Nama|Usia|\n",
      "+-----+----+\n",
      "|  Ali|  34|\n",
      "| Budi|  23|\n",
      "|Citra|  29|\n",
      "| Dina|  45|\n",
      "|  Eka|  21|\n",
      "|Fahri|  22|\n",
      "| Gina|  20|\n",
      "| Hadi|  23|\n",
      "+-----+----+\n",
      "\n",
      "Rata-rata usia dari data gabungan: 27.12\n"
     ]
    }
   ],
   "source": [
    "from pyspark.sql import SparkSession\n",
    "import pandas as pd\n",
    "\n",
    "# Memulai Spark session\n",
    "spark = SparkSession.builder.appName(\"CombineDataPractice\").getOrCreate()\n",
    "\n",
    "# Data PySpark\n",
    "data_spark = [(\"Eka\", 21, 101), \n",
    "              (\"Fahri\", 22, 102), \n",
    "              (\"Gina\", 20, 103), \n",
    "              (\"Hadi\", 23, 104)]\n",
    "columns_spark = [\"Nama\", \"Usia\", \"No Absen\"]\n",
    "df_spark = spark.createDataFrame(data_spark, columns_spark)\n",
    "\n",
    "# Data Pandas\n",
    "data_pandas = {\"Nama\": [\"Ali\", \"Budi\", \"Citra\", \"Dina\"], \n",
    "               \"Usia\": [34, 23, 29, 45], \n",
    "               \"Pekerjaan\": [\"Kang Parkir\", \"Kang Haji\", \"Kang Cuci\", \"Kang Buku\"]}\n",
    "df_pandas = pd.DataFrame(data_pandas)\n",
    "\n",
    "# Mengonversi DataFrame dari PySpark ke Pandas\n",
    "df_pandas_from_spark = df_spark.toPandas()\n",
    "\n",
    "# Mengonversi DataFrame dari Pandas ke PySpark\n",
    "df_spark_from_pandas = spark.createDataFrame(df_pandas)\n",
    "\n",
    "# Menggabungkan data dari PySpark dan Pandas\n",
    "# Pertama, kita perlu memastikan kedua DataFrame memiliki struktur yang sama\n",
    "df_spark_combined = df_spark_from_pandas.select(\"Nama\", \"Usia\").unionByName(df_spark.select(\"Nama\", \"Usia\"))\n",
    "\n",
    "# Menghitung rata-rata usia dari data gabungan\n",
    "from pyspark.sql.functions import avg\n",
    "average_age = df_spark_combined.groupBy().agg(avg(\"Usia\")).collect()[0][0]\n",
    "\n",
    "# Menampilkan DataFrame gabungan dan hasil rata-rata usia\n",
    "df_spark_combined.show()\n",
    "print(f\"Rata-rata usia dari data gabungan: {average_age:.2f}\")\n"
   ]
  },
  {
   "cell_type": "raw",
   "id": "af1b9563-0b97-4343-ae7c-425796674e08",
   "metadata": {},
   "source": []
  },
  {
   "cell_type": "raw",
   "id": "5ddccfcc-39a0-4526-8683-5b54d326077d",
   "metadata": {},
   "source": [
    "Konversi Data antara PySpark dan Pandas"
   ]
  },
  {
   "cell_type": "code",
   "execution_count": 20,
   "id": "5345f49f-b463-45eb-9673-08b45ae94da1",
   "metadata": {},
   "outputs": [
    {
     "name": "stdout",
     "output_type": "stream",
     "text": [
      "+-----+----+-----------+\n",
      "| Nama|Usia|  Pekerjaan|\n",
      "+-----+----+-----------+\n",
      "|  Ali|  34|Kang Parkir|\n",
      "| Budi|  23|  Kang Haji|\n",
      "|Citra|  29|  Kang Cuci|\n",
      "| Dina|  45|  Kang Buku|\n",
      "+-----+----+-----------+\n",
      "\n"
     ]
    },
    {
     "data": {
      "text/plain": [
       "(    Nama  Usia  No Absen\n",
       " 0    Eka    21       101\n",
       " 1  Fahri    22       102\n",
       " 2   Gina    20       103\n",
       " 3   Hadi    23       104,\n",
       " None)"
      ]
     },
     "execution_count": 20,
     "metadata": {},
     "output_type": "execute_result"
    }
   ],
   "source": [
    "# Mengonversi DataFrame dari PySpark ke Pandas\n",
    "df_pandas_from_spark = df.toPandas()\n",
    "\n",
    "# Mengonversi DataFrame dari Pandas ke PySpark\n",
    "df_spark_from_pandas = spark.createDataFrame(df_pandas)\n",
    "\n",
    "# Menampilkan DataFrame hasil konversi\n",
    "df_pandas_from_spark, df_spark_from_pandas.show()"
   ]
  },
  {
   "cell_type": "raw",
   "id": "8f4a83fb-b09d-4e6d-a326-ab9158a46e19",
   "metadata": {},
   "source": [
    "Tugas 6: Gabungkan data dari PySpark dan Pandas, lalu lakukan operasi statistik seperti menghitung nilai maksimum usia."
   ]
  },
  {
   "cell_type": "code",
   "execution_count": 23,
   "id": "f2c28ca2-4682-49ab-8389-e8ce25c03d61",
   "metadata": {},
   "outputs": [
    {
     "name": "stdout",
     "output_type": "stream",
     "text": [
      "+-----+----+\n",
      "| Nama|Usia|\n",
      "+-----+----+\n",
      "|  Eka|  21|\n",
      "|Fahri|  22|\n",
      "| Gina|  20|\n",
      "| Hadi|  23|\n",
      "|  Ali|  34|\n",
      "| Budi|  23|\n",
      "|Citra|  29|\n",
      "| Dina|  45|\n",
      "+-----+----+\n",
      "\n",
      "+-------+-----------------+\n",
      "|summary|             Usia|\n",
      "+-------+-----------------+\n",
      "|  count|                8|\n",
      "|   mean|           27.125|\n",
      "| stddev|8.609587678861283|\n",
      "|    min|               20|\n",
      "|    max|               45|\n",
      "+-------+-----------------+\n",
      "\n",
      "Nilai maksimum usia dari data gabungan: 45\n"
     ]
    }
   ],
   "source": [
    "from pyspark.sql import SparkSession\n",
    "from pyspark.sql.functions import max\n",
    "import pandas as pd\n",
    "\n",
    "# Memulai Spark session\n",
    "spark = SparkSession.builder.appName(\"CombineDataPractice\").getOrCreate()\n",
    "\n",
    "# Data PySpark\n",
    "data_spark = [(\"Eka\", 21, 101), \n",
    "              (\"Fahri\", 22, 102), \n",
    "              (\"Gina\", 20, 103), \n",
    "              (\"Hadi\", 23, 104)]\n",
    "columns_spark = [\"Nama\", \"Usia\", \"No Absen\"]\n",
    "df_spark = spark.createDataFrame(data_spark, columns_spark)\n",
    "\n",
    "# Data Pandas\n",
    "data_pandas = {\"Nama\": [\"Ali\", \"Budi\", \"Citra\", \"Dina\"], \n",
    "               \"Usia\": [34, 23, 29, 45]}\n",
    "\n",
    "# Mengonversi Pandas DataFrame menjadi DataFrame PySpark\n",
    "df_spark_from_pandas = spark.createDataFrame(pd.DataFrame(data_pandas))\n",
    "\n",
    "# Menggabungkan kedua DataFrame dengan hanya memilih kolom \"Nama\" dan \"Usia\"\n",
    "df_spark_selected = df_spark.select(\"Nama\", \"Usia\")\n",
    "df_combined = df_spark_selected.unionByName(df_spark_from_pandas)\n",
    "\n",
    "# Menampilkan DataFrame gabungan\n",
    "df_combined.show()\n",
    "\n",
    "# Menghitung nilai maksimum usia dari data gabungan\n",
    "max_age = df_combined.agg(max(\"Usia\")).collect()[0][0]\n",
    "\n",
    "# Menampilkan statistik deskriptif dari kolom \"Usia\"\n",
    "df_combined.describe(\"Usia\").show()\n",
    "\n",
    "# Menampilkan hasil nilai maksimum usia\n",
    "print(f\"Nilai maksimum usia dari data gabungan: {max_age}\")\n"
   ]
  },
  {
   "cell_type": "code",
   "execution_count": null,
   "id": "af55c045-8f5d-41dc-b7b4-00782f5a0d7d",
   "metadata": {},
   "outputs": [],
   "source": []
  }
 ],
 "metadata": {
  "kernelspec": {
   "display_name": "Python 3 (ipykernel)",
   "language": "python",
   "name": "python3"
  },
  "language_info": {
   "codemirror_mode": {
    "name": "ipython",
    "version": 3
   },
   "file_extension": ".py",
   "mimetype": "text/x-python",
   "name": "python",
   "nbconvert_exporter": "python",
   "pygments_lexer": "ipython3",
   "version": "3.11.9"
  }
 },
 "nbformat": 4,
 "nbformat_minor": 5
}
